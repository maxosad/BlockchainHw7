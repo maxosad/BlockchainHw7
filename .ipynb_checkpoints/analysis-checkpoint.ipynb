{
 "cells": [
  {
   "cell_type": "code",
   "execution_count": 1,
   "id": "1ec0647b",
   "metadata": {},
   "outputs": [],
   "source": [
    "ds = []"
   ]
  },
  {
   "cell_type": "code",
   "execution_count": 2,
   "id": "1facd730",
   "metadata": {},
   "outputs": [],
   "source": [
    "import hashlib\n",
    "import sys\n",
    "import matplotlib.pyplot as plt\n",
    "\n",
    "\n",
    "#f = open(\"more_names.txt\",\"r\")\n",
    "f = open(\"fio2.txt\",\"r\")\n",
    "numbilets =   10\n",
    "parameter = \"522\"\n",
    "\n",
    "\n",
    "\n",
    "for line in f:\n",
    "    spl = line.split()\n",
    "    firstName = spl[0]\n",
    "    secondName = spl[1]\n",
    "    #thirdName = spl[2]\n",
    "    fio = firstName.join([secondName,parameter])\n",
    "    fioByte = bytes(fio, 'utf-8')\n",
    "    hash_object = hashlib.sha3_512(fioByte)\n",
    "    hex_dig = hash_object.hexdigest()\n",
    "    h = int(hex_dig,16)\n",
    "    ticket = h%numbilets + 1\n",
    "    ds.append(ticket)\n",
    "    #print(f\"{firstName} {secondName} {thirdName} {ticket}\")\n",
    "\n"
   ]
  },
  {
   "cell_type": "code",
   "execution_count": 3,
   "id": "b2438708",
   "metadata": {},
   "outputs": [
    {
     "data": {
      "text/plain": [
       "(array([24., 45., 34., 37., 39., 39., 36., 41., 39., 33., 22., 35., 36.,\n",
       "        30., 30., 45., 40., 40., 41., 30., 40., 32., 32., 39., 43., 44.,\n",
       "        46., 33., 30., 31.]),\n",
       " array([ 1.        ,  1.96666667,  2.93333333,  3.9       ,  4.86666667,\n",
       "         5.83333333,  6.8       ,  7.76666667,  8.73333333,  9.7       ,\n",
       "        10.66666667, 11.63333333, 12.6       , 13.56666667, 14.53333333,\n",
       "        15.5       , 16.46666667, 17.43333333, 18.4       , 19.36666667,\n",
       "        20.33333333, 21.3       , 22.26666667, 23.23333333, 24.2       ,\n",
       "        25.16666667, 26.13333333, 27.1       , 28.06666667, 29.03333333,\n",
       "        30.        ]),\n",
       " <BarContainer object of 30 artists>)"
      ]
     },
     "execution_count": 3,
     "metadata": {},
     "output_type": "execute_result"
    },
    {
     "data": {
      "image/png": "[encoded data removed]",
      "text/plain": [
       "<Figure size 432x288 with 1 Axes>"
      ]
     },
     "metadata": {
      "needs_background": "light"
     },
     "output_type": "display_data"
    }
   ],
   "source": [
    "plt.hist(ds,numbilets )"
   ]
  },
  {
   "cell_type": "code",
   "execution_count": null,
   "id": "d828e94c",
   "metadata": {},
   "outputs": [],
   "source": []
  }
 ],
 "metadata": {
  "kernelspec": {
   "display_name": "Python 3 (ipykernel)",
   "language": "python",
   "name": "python3"
  },
  "language_info": {
   "codemirror_mode": {
    "name": "ipython",
    "version": 3
   },
   "file_extension": ".py",
   "mimetype": "text/x-python",
   "name": "python",
   "nbconvert_exporter": "python",
   "pygments_lexer": "ipython3",
   "version": "3.9.7"
  }
 },
 "nbformat": 4,
 "nbformat_minor": 5
}
