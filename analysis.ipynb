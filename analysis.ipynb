{
 "cells": [
  {
   "cell_type": "code",
   "execution_count": 2,
   "id": "1facd730",
   "metadata": {},
   "outputs": [],
   "source": [
    "import hashlib\n",
    "import sys\n",
    "import matplotlib.pyplot as plt\n",
    "\n",
    "\n",
    "#f = open(\"more_names.txt\",\"r\")\n",
    "f = open(\"fio2.txt\",\"r\")\n",
    "numbilets =   10\n",
    "parameter = \"522\"\n",
    "ds = []\n",
    "\n",
    "\n",
    "for line in f:\n",
    "    spl = line.split()\n",
    "    firstName = spl[0]\n",
    "    secondName = spl[1]\n",
    "    #thirdName = spl[2]\n",
    "    fio = firstName.join([secondName,parameter])\n",
    "    fioByte = bytes(fio, 'utf-8')\n",
    "    hash_object = hashlib.sha3_512(fioByte)\n",
    "    hex_dig = hash_object.hexdigest()\n",
    "    h = int(hex_dig,16)\n",
    "    ticket = h%numbilets + 1\n",
    "    ds.append(ticket)\n",
    "    #print(f\"{firstName} {secondName} {thirdName} {ticket}\")\n",
    "\n",
    "plt.hist(ds,numbilets )"
   ]
  }
 ],
 "metadata": {
  "kernelspec": {
   "display_name": "Python 3 (ipykernel)",
   "language": "python",
   "name": "python3"
  },
  "language_info": {
   "codemirror_mode": {
    "name": "ipython",
    "version": 3
   },
   "file_extension": ".py",
   "mimetype": "text/x-python",
   "name": "python",
   "nbconvert_exporter": "python",
   "pygments_lexer": "ipython3",
   "version": "3.9.7"
  }
 },
 "nbformat": 4,
 "nbformat_minor": 5
}
